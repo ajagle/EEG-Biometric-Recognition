{
 "cells": [
  {
   "cell_type": "markdown",
   "id": "f38b0e01-3471-4f2b-861a-a5a1ccc95d1c",
   "metadata": {},
   "source": [
    "# Importing necessary libraries:"
   ]
  },
  {
   "cell_type": "code",
   "execution_count": 3,
   "id": "4d6aba1a-1eda-4a12-946a-376db7b838d5",
   "metadata": {},
   "outputs": [],
   "source": [
    "import os\n",
    "import re\n",
    "import numpy as np\n",
    "import pandas as pd\n",
    "import matplotlib.pyplot as plt\n",
    "from scipy.signal import welch\n",
    "from sklearn.model_selection import StratifiedKFold\n",
    "from sklearn.preprocessing import StandardScaler\n",
    "from sklearn.pipeline import Pipeline\n",
    "from sklearn.ensemble import RandomForestClassifier\n",
    "from sklearn.metrics import accuracy_score, confusion_matrix"
   ]
  },
  {
   "cell_type": "markdown",
   "id": "6ce413f2-6170-455a-92d0-d44640b7b579",
   "metadata": {},
   "source": [
    "## Explainging the basics:\n",
    "\n",
    "input:- where my raw data is  \n",
    "output:- where my updated data will be saved  \n",
    "window:- the window size (5 seconds of eeg per feature vector)  \n",
    "overlap:- fraction of overlap between windows(0.5=50%)  \n",
    "duration:- each recording is 60 seconds  "
   ]
  },
  {
   "cell_type": "code",
   "execution_count": 23,
   "id": "383c456c-ee24-4fcf-89a6-b418477290f8",
   "metadata": {},
   "outputs": [],
   "source": [
    "INPUT_DIR = r\"C:\\Users\\Admin\\Desktop\\ALVIN\\dataset\"\n",
    "OUTPUT_DIR = r\"C:\\Users\\Admin\\Desktop\\ALVIN\\outputs\"\n",
    "WINDOW_SEC = 5.0\n",
    "OVERLAP = 0.5\n",
    "DURATION_SEC = 60.0\n",
    "\n",
    "CHANNELS = ['Fp1','Fp2','F3','F4','F7','F8','T3','T4','C3','C4',\n",
    "            'T5','T6','P3','P4','O1','O2','Fz','Cz','Pz']\n",
    "BANDS = {\n",
    "    \"Delta\": (0.5, 4.0),\n",
    "    \"Theta\": (4.0, 7.0),\n",
    "    \"Alpha\": (8.0, 13.0),\n",
    "    \"Beta\": (13.0, 30.0),\n",
    "    \"Gamma\": (30.0, 45.0),\n",
    "}"
   ]
  },
  {
   "cell_type": "markdown",
   "id": "55016233-8068-4e91-8493-63a2ef01d3c3",
   "metadata": {},
   "source": [
    "### FIXING HEADERS, WELCH PSD AND BANDPOWER, PER-SUBJECT SUMMARY, WINDOWING, FEATURES PER WINDOW, TRAINING AND EVALUATION"
   ]
  },
  {
   "cell_type": "code",
   "execution_count": 24,
   "id": "4eda10e0-6881-4ebf-ab03-9905dcfbe14f",
   "metadata": {},
   "outputs": [],
   "source": [
    "def likely_unlabeled(df_head):\n",
    "    cols = list(df_head.columns)\n",
    "    if cols == CHANNELS:\n",
    "        return False\n",
    "    num_like = 0\n",
    "    for c in cols:\n",
    "        try:\n",
    "            float(str(c).strip()); num_like += 1\n",
    "        except:\n",
    "            pass\n",
    "    return num_like >= len(cols)//2\n",
    "\n",
    "def ensure_labeled(path):\n",
    "    stem = os.path.splitext(os.path.basename(path))[0]\n",
    "    try:\n",
    "        df_try = pd.read_csv(path, nrows=3)\n",
    "    except:\n",
    "        df = pd.read_csv(path, header=None); df.columns = CHANNELS\n",
    "        df.to_csv(os.path.join(OUTPUT_DIR, f\"{stem}_corrected.csv\"), index=False)\n",
    "        return df, stem\n",
    "    if likely_unlabeled(df_try):\n",
    "        df = pd.read_csv(path, header=None); df.columns = CHANNELS\n",
    "        df.to_csv(os.path.join(OUTPUT_DIR, f\"{stem}_corrected.csv\"), index=False)\n",
    "        return df, stem\n",
    "    else:\n",
    "        df = pd.read_csv(path)\n",
    "        if list(df.columns) != CHANNELS:\n",
    "            if set(CHANNELS).issubset(set(df.columns)):\n",
    "                df = df[CHANNELS]\n",
    "            else:\n",
    "                raise ValueError(f\"{path} has wrong columns\")\n",
    "        return df, stem\n",
    "\n",
    "def welch_psd(x, fs, nperseg, noverlap):\n",
    "    return welch(x, fs=fs, nperseg=nperseg, noverlap=noverlap, detrend='constant')\n",
    "\n",
    "def integrate_bandpower(f, Pxx, band):\n",
    "    fmin, fmax = band\n",
    "    idx = (f >= fmin) & (f < fmax)\n",
    "    if not np.any(idx): return 0.0\n",
    "    return float(np.trapz(Pxx[idx], f[idx]))\n",
    "\n",
    "def compute_wide_summary(df, fs, out_csv):\n",
    "    nperseg = int(4*fs); noverlap = int(0.5*nperseg)\n",
    "    feats = {}\n",
    "    for ch in CHANNELS:\n",
    "        f, Pxx = welch_psd(df[ch].values.astype(float), fs, nperseg, noverlap)\n",
    "        total = np.trapz(Pxx, f)\n",
    "        for b, rng in BANDS.items():\n",
    "            abs_p = integrate_bandpower(f, Pxx, rng)\n",
    "            rel_p = abs_p/total if total>0 else np.nan\n",
    "            feats[f\"{ch}_{b}\"] = abs_p\n",
    "            feats[f\"{ch}_{b}_Rel\"] = rel_p\n",
    "    wide = pd.DataFrame([feats])\n",
    "    wide.to_csv(out_csv, index=False)\n",
    "    return wide\n",
    "\n",
    "def segment_windows(df, fs, win_sec, overlap):\n",
    "    win_len = int(win_sec*fs); hop = int(win_len*(1-overlap))\n",
    "    return [(s, s+win_len) for s in range(0, len(df)-win_len+1, hop)]\n",
    "\n",
    "def compute_window_features(df, fs, window):\n",
    "    s,e = window; xw = df.iloc[s:e]\n",
    "    nperseg = int(2*fs); noverlap = int(0.5*nperseg)\n",
    "    feats = {}\n",
    "    for ch in CHANNELS:\n",
    "        f,Pxx = welch_psd(xw[ch].values.astype(float), fs, nperseg, noverlap)\n",
    "        total = np.trapz(Pxx, f)\n",
    "        for b,rng in BANDS.items():\n",
    "            abs_p = integrate_bandpower(f,Pxx,rng)\n",
    "            rel_p = abs_p/total if total>0 else np.nan\n",
    "            feats[f\"{ch}_{b}\"] = abs_p; feats[f\"{ch}_{b}_Rel\"] = rel_p\n",
    "    feats[\"StartSample\"] = s; feats[\"Fs\"] = fs\n",
    "    return feats\n",
    "\n",
    "def train_and_evaluate(features_csv):\n",
    "    df = pd.read_csv(features_csv)\n",
    "    X = df.drop(columns=[\"Subject\",\"StartSample\",\"Fs\"]).values\n",
    "    y = df[\"Subject\"].values\n",
    "    classes = sorted(df[\"Subject\"].unique().tolist())\n",
    "    if len(classes)<2: \n",
    "        print(\"Need at least 2 subjects\"); return\n",
    "    clf = Pipeline([\n",
    "        (\"scaler\", StandardScaler()),\n",
    "        (\"rf\", RandomForestClassifier(n_estimators=400, random_state=42))\n",
    "    ])\n",
    "    skf = StratifiedKFold(n_splits=5, shuffle=True, random_state=42)\n",
    "    accs, cms = [], []\n",
    "    for tr,te in skf.split(X,y):\n",
    "        clf.fit(X[tr],y[tr]); y_pred = clf.predict(X[te])\n",
    "        accs.append(accuracy_score(y[te],y_pred))\n",
    "        cms.append(confusion_matrix(y[te],y_pred,labels=classes))\n",
    "    print(\"Mean CV Accuracy:\", np.mean(accs))\n",
    "    cm_sum = np.sum(cms,axis=0)\n",
    "    plt.imshow(cm_sum, cmap=\"Blues\")\n",
    "    plt.xticks(np.arange(len(classes)), classes)\n",
    "    plt.yticks(np.arange(len(classes)), classes)\n",
    "    plt.title(\"Confusion Matrix (5-fold CV)\")\n",
    "    plt.colorbar()\n",
    "    plt.savefig(os.path.join(OUTPUT_DIR,\"confusion_matrix.png\"))\n",
    "    plt.close()\n"
   ]
  },
  {
   "cell_type": "markdown",
   "id": "b47faf5c-c5db-4922-be5a-45d4d066feda",
   "metadata": {},
   "source": [
    "### MAIN PIPELINE "
   ]
  },
  {
   "cell_type": "code",
   "execution_count": 25,
   "id": "2ae7f5e8-45dc-4071-ba59-2f06917cc9a5",
   "metadata": {},
   "outputs": [
    {
     "name": "stdout",
     "output_type": "stream",
     "text": [
      "Saved features: C:\\Users\\Admin\\Desktop\\ALVIN\\outputs\\eeg_biometric_features_5s_master.csv\n",
      "Mean CV Accuracy: 0.9915516611902154\n"
     ]
    }
   ],
   "source": [
    "def main():\n",
    "    os.makedirs(OUTPUT_DIR, exist_ok=True)\n",
    "    candidates = [f for f in os.listdir(INPUT_DIR) if f.lower().endswith(\".csv\")]\n",
    "    exclude = re.compile(r\"(bandpowers|features|corrected|wide|master)\", re.I)\n",
    "    candidates = [f for f in candidates if not exclude.search(f)]\n",
    "\n",
    "    master_rows, subjects = [], []\n",
    "    for fname in sorted(candidates):\n",
    "        path = os.path.join(INPUT_DIR,fname)\n",
    "        df, subj = ensure_labeled(path); subjects.append(subj)\n",
    "        fs = df.shape[0]/DURATION_SEC\n",
    "        wide_csv = os.path.join(OUTPUT_DIR,f\"{subj}_bandpowers_wide.csv\")\n",
    "        compute_wide_summary(df, fs, wide_csv)\n",
    "        for w in segment_windows(df,fs,WINDOW_SEC,OVERLAP):\n",
    "            feats = compute_window_features(df,fs,w)\n",
    "            feats[\"Subject\"]=subj; master_rows.append(feats)\n",
    "\n",
    "    if not master_rows: return\n",
    "    master = pd.DataFrame(master_rows)\n",
    "    master_csv = os.path.join(OUTPUT_DIR,f\"eeg_biometric_features_{int(WINDOW_SEC)}s_master.csv\")\n",
    "    master.to_csv(master_csv,index=False)\n",
    "    print(\"Saved features:\", master_csv)\n",
    "    if len(set(subjects))>=2: train_and_evaluate(master_csv)\n",
    "\n",
    "if __name__==\"__main__\":\n",
    "    main()"
   ]
  },
  {
   "cell_type": "code",
   "execution_count": null,
   "id": "4435ed53-bdec-45be-ad64-1e71f4522155",
   "metadata": {},
   "outputs": [],
   "source": []
  }
 ],
 "metadata": {
  "kernelspec": {
   "display_name": "Python [conda env:base] *",
   "language": "python",
   "name": "conda-base-py"
  },
  "language_info": {
   "codemirror_mode": {
    "name": "ipython",
    "version": 3
   },
   "file_extension": ".py",
   "mimetype": "text/x-python",
   "name": "python",
   "nbconvert_exporter": "python",
   "pygments_lexer": "ipython3",
   "version": "3.12.7"
  }
 },
 "nbformat": 4,
 "nbformat_minor": 5
}
